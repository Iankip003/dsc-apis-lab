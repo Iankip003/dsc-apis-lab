{
 "cells": [
  {
   "cell_type": "markdown",
   "metadata": {},
   "source": [
    "# APIs - Cumulative Lab\n",
    "\n",
    "\n",
    "## Introduction \n",
    "\n",
    "We've seen how the Yelp API works and how to create basic visualizations using Folium. It's time to put those skills to work in order to create a working map! Taking things a step further, you'll also independently explore how to perform pagination in order to retrieve a full results set from the Yelp API.\n",
    "\n",
    "## Objectives\n",
    "\n",
    "You will be able to: \n",
    "\n",
    "* Practice using functions to organize your code\n",
    "* Use pagination to retrieve all results from an API query\n",
    "* Practice parsing data returned from an API query\n",
    "* Practice interpreting visualizations of a dataset\n",
    "* Create maps using Folium"
   ]
  },
  {
   "cell_type": "markdown",
   "metadata": {},
   "source": [
    "## Your Task: Query Yelp for All Businesses in a Category and Analyze the Results\n",
    "\n",
    "![restaurant counter with pizza](images/restaurant_counter.jpg)\n",
    "\n",
    "Photo by <a href=\"https://unsplash.com/@jordanmadrid?utm_source=unsplash&utm_medium=referral&utm_content=creditCopyText\">Jordan Madrid</a> on <a href=\"/s/photos/pizza-restaurant?utm_source=unsplash&utm_medium=referral&utm_content=creditCopyText\">Unsplash</a>"
   ]
  },
  {
   "cell_type": "markdown",
   "metadata": {},
   "source": [
    "### Overview\n",
    "\n",
    "You've now worked with some API calls, but we have yet to see how to retrieve a more complete dataset in a programmatic manner. In this lab, you will write a query of businesses on Yelp, then use *pagination* to retrieve all possible results for that query. Then you will create a summary of your findings, including a Folium map of the geographic locations of those businesses.\n",
    "\n",
    "### Technical Details\n",
    "\n",
    "Returning to the Yelp API, the [documentation](https://www.yelp.com/developers/documentation/v3/business_search) also provides us details regarding the **API limits**. These often include details about the number of requests a user is allowed to make within a specified time limit and the maximum number of results to be returned. In this case, we are told that any request has a **maximum of 50 results per request** and defaults to 20. Furthermore, any search will be limited to a **total of 1000 results**. To retrieve all 1000 of these results, we would have to page through the results piece by piece, retrieving 50 at a time. Processes such as these are often referred to as pagination.\n",
    "\n",
    "Also, be mindful of the **API** ***rate*** **limits**. You can only make **5000 requests per day** and can make requests too fast. Start prototyping small before running a loop that could be faulty. You can also use `time.sleep(n)` to add delays. For more details see https://www.yelp.com/developers/documentation/v3/rate_limiting.\n",
    "\n",
    "In this lab, you will define a search and then paginate over the results to retrieve all of the results. You'll then parse these responses as a list of dictionaries (for further exploration) and create a map using Folium to visualize the results geographically.\n",
    "\n",
    "### Requirements\n",
    "\n",
    "#### 1. Make the Initial Request\n",
    "\n",
    "Start by filling in your API key to make the initial request to the business search API. Investigate the structure of the response you get back and start figuring out how you will extract the relevant information.\n",
    "\n",
    "#### 2. Add Pagination\n",
    "\n",
    "Using loops and functions, collect the maximum number of results for your query from the API.\n",
    "\n",
    "#### 3. Perform Exploratory Analysis\n",
    "\n",
    "Interpret visualizations related to the price range, average rating, and number of reviews for all query results.\n",
    "\n",
    "#### 4. Create a Folium Map\n",
    "\n",
    "Using latitude and longitude data, plot the query results on an interactive map."
   ]
  },
  {
   "cell_type": "markdown",
   "metadata": {},
   "source": [
    "## 1. Make the Initial Request\n",
    "\n",
    "### Querying\n",
    "\n",
    "Start by making an initial request to the Yelp API. Your search must include at least 2 parameters: **term** and **location**. For example, you might search for pizza restaurants in NYC. The term and location is up to you but make the request below.\n",
    "\n",
    "Use the `requests` library ([documentation here](https://requests.readthedocs.io/en/master/user/quickstart/#make-a-request)).\n",
    "\n",
    "You'll also need an API key from Yelp. If you haven't done this already, go to the Yelp [Manage App page](https://www.yelp.com/developers/v3/manage_app) and create a new app (after making an account if you haven't already)."
   ]
  },
  {
   "cell_type": "code",
   "execution_count": 2,
   "metadata": {},
   "outputs": [
    {
     "data": {
      "text/plain": [
       "<Response [200]>"
      ]
     },
     "execution_count": 2,
     "metadata": {},
     "output_type": "execute_result"
    }
   ],
   "source": [
    "# Replace None with appropriate code\n",
    "\n",
    "# Import the requests library\n",
    "import requests\n",
    "\n",
    "# Get this from the \"Manage App\" page. Make sure you set them\n",
    "# back to None before pushing this to GitHub, since otherwise\n",
    "# your credentials will be compromised\n",
    "# keys = get_keys(\"C:/Users/Ian/Documents/.secret/yelp_api.json\")\n",
    "\n",
    "# api_key = keys['api_key']\n",
    "\n",
    "api_key = None\n",
    "\n",
    "# These can be whatever you want! But the solution uses \"pizza\"\n",
    "# and \"New York NY\" if you want to compare your work directly\n",
    "term = \"pizza\"\n",
    "location = \"New York NY\"\n",
    "\n",
    "# Set up params for request\n",
    "url = \"https://api.yelp.com/v3/businesses/search\"\n",
    "headers = {\n",
    "    \"Authorization\": \"Bearer {}\".format(api_key)\n",
    "}\n",
    "url_params = {\n",
    "    \"term\": term.replace(\" \", \"+\"),\n",
    "    \"location\": location.replace(\" \", \"+\")\n",
    "}\n",
    "\n",
    "# Make the request using requests.get, passing in\n",
    "# url, headers=headers, and params=url_params\n",
    "response = requests.get(url, headers=headers, params=url_params)\n",
    "\n",
    "# Confirm we got a 200 response\n",
    "response"
   ]
  },
  {
   "cell_type": "code",
   "execution_count": 3,
   "metadata": {},
   "outputs": [
    {
     "data": {
      "text/plain": [
       "dict_keys(['businesses', 'total', 'region'])"
      ]
     },
     "execution_count": 3,
     "metadata": {},
     "output_type": "execute_result"
    }
   ],
   "source": [
    "# Run this cell without changes\n",
    "\n",
    "# Get the response body in JSON format\n",
    "response_json = response.json()\n",
    "# View the keys\n",
    "response_json.keys()"
   ]
  },
  {
   "cell_type": "code",
   "execution_count": 9,
   "metadata": {},
   "outputs": [
    {
     "data": {
      "text/plain": [
       "dict_keys"
      ]
     },
     "execution_count": 9,
     "metadata": {},
     "output_type": "execute_result"
    }
   ],
   "source": [
    "type(response_json.keys())"
   ]
  },
  {
   "cell_type": "code",
   "execution_count": 32,
   "metadata": {},
   "outputs": [
    {
     "data": {
      "text/plain": [
       "{'center': {'longitude': -73.99429321289062, 'latitude': 40.70544486444615}}"
      ]
     },
     "execution_count": 32,
     "metadata": {},
     "output_type": "execute_result"
    }
   ],
   "source": [
    "response_json[\"region\"]"
   ]
  },
  {
   "cell_type": "markdown",
   "metadata": {},
   "source": [
    "### Extracting Data\n",
    "\n",
    "Now, retrieve the value associated with the `'businesses'` key, and inspect its contents."
   ]
  },
  {
   "cell_type": "code",
   "execution_count": 13,
   "metadata": {},
   "outputs": [
    {
     "data": {
      "text/plain": [
       "[{'id': 'ysqgdbSrezXgVwER2kQWKA',\n",
       "  'alias': 'julianas-brooklyn-3',\n",
       "  'name': \"Juliana's\",\n",
       "  'image_url': 'https://s3-media2.fl.yelpcdn.com/bphoto/od36nFW220aMFAnNP00ocw/o.jpg',\n",
       "  'is_closed': False,\n",
       "  'url': 'https://www.yelp.com/biz/julianas-brooklyn-3?adjust_creative=fG4YnjRqi__42PpZWjzedw&utm_campaign=yelp_api_v3&utm_medium=api_v3_business_search&utm_source=fG4YnjRqi__42PpZWjzedw',\n",
       "  'review_count': 2749,\n",
       "  'categories': [{'alias': 'pizza', 'title': 'Pizza'}],\n",
       "  'rating': 4.4,\n",
       "  'coordinates': {'latitude': 40.70274718768062,\n",
       "   'longitude': -73.99343490196397},\n",
       "  'transactions': ['delivery'],\n",
       "  'price': '$$',\n",
       "  'location': {'address1': '19 Old Fulton St',\n",
       "   'address2': '',\n",
       "   'address3': '',\n",
       "   'city': 'Brooklyn',\n",
       "   'zip_code': '11201',\n",
       "   'country': 'US',\n",
       "   'state': 'NY',\n",
       "   'display_address': ['19 Old Fulton St', 'Brooklyn, NY 11201']},\n",
       "  'phone': '+17185966700',\n",
       "  'display_phone': '(718) 596-6700',\n",
       "  'distance': 308.56984360837544},\n",
       " {'id': 'zj8Lq1T8KIC5zwFief15jg',\n",
       "  'alias': 'prince-street-pizza-new-york-2',\n",
       "  'name': 'Prince Street Pizza',\n",
       "  'image_url': 'https://s3-media4.fl.yelpcdn.com/bphoto/Yugen5hq0A0uqemjWCTRMg/o.jpg',\n",
       "  'is_closed': False,\n",
       "  'url': 'https://www.yelp.com/biz/prince-street-pizza-new-york-2?adjust_creative=fG4YnjRqi__42PpZWjzedw&utm_campaign=yelp_api_v3&utm_medium=api_v3_business_search&utm_source=fG4YnjRqi__42PpZWjzedw',\n",
       "  'review_count': 5217,\n",
       "  'categories': [{'alias': 'pizza', 'title': 'Pizza'},\n",
       "   {'alias': 'italian', 'title': 'Italian'}],\n",
       "  'rating': 4.3,\n",
       "  'coordinates': {'latitude': 40.72308755605564,\n",
       "   'longitude': -73.99453001177575},\n",
       "  'transactions': ['delivery', 'pickup'],\n",
       "  'price': '$',\n",
       "  'location': {'address1': '27 Prince St',\n",
       "   'address2': None,\n",
       "   'address3': '',\n",
       "   'city': 'New York',\n",
       "   'zip_code': '10012',\n",
       "   'country': 'US',\n",
       "   'state': 'NY',\n",
       "   'display_address': ['27 Prince St', 'New York, NY 10012']},\n",
       "  'phone': '+12129664100',\n",
       "  'display_phone': '(212) 966-4100',\n",
       "  'distance': 1961.8771417367063}]"
      ]
     },
     "execution_count": 13,
     "metadata": {},
     "output_type": "execute_result"
    }
   ],
   "source": [
    "# Replace None with appropriate code\n",
    "\n",
    "# Retrieve the value from response_json\n",
    "businesses = response_json[\"businesses\"]\n",
    "\n",
    "# View the first 2 records\n",
    "businesses[:2]"
   ]
  },
  {
   "cell_type": "markdown",
   "metadata": {},
   "source": [
    "### Preparing Data\n",
    "\n",
    "Write a function `prepare_data` that takes in a list of dictionaries like `businesses` and returns a copy that has been prepared for analysis:\n",
    "\n",
    "1. The `coordinates` key-value pair has been converted into two separate key-value pairs, `latitude` and `longitude`\n",
    "2. All other key-value pairs except for `name`, `review_count`, `rating`, and `price` have been dropped\n",
    "3. All dictionaries missing one of the relevant keys or containing null values have been dropped\n",
    "\n",
    "In other words, the final keys for each dictionary should be `name`, `review_count`, `rating`, `price`, `latitude`, and `longitude`.\n",
    "\n",
    "Complete the function in the cell below:"
   ]
  },
  {
   "cell_type": "code",
   "execution_count": 14,
   "metadata": {},
   "outputs": [
    {
     "ename": "SyntaxError",
     "evalue": "invalid syntax (<ipython-input-14-a88fd1809851>, line 33)",
     "output_type": "error",
     "traceback": [
      "\u001b[1;36m  File \u001b[1;32m\"<ipython-input-14-a88fd1809851>\"\u001b[1;36m, line \u001b[1;32m33\u001b[0m\n\u001b[1;33m    if all(prepared_data.values()):\u001b[0m\n\u001b[1;37m                                  ^\u001b[0m\n\u001b[1;31mSyntaxError\u001b[0m\u001b[1;31m:\u001b[0m invalid syntax\n"
     ]
    }
   ],
   "source": [
    "# Replace None with appropriate code\n",
    "\n",
    "def prepare_data(data_list):\n",
    "    \"\"\"\n",
    "    This function takes in a list of dictionaries and prepares it\n",
    "    for analysis\n",
    "    \"\"\"\n",
    "    \n",
    "    # Make a new list to hold results\n",
    "    results = []\n",
    "    \n",
    "    for business_data in data_list:\n",
    "    \n",
    "        # Make a new dictionary to hold prepared data for this business\n",
    "        prepared_data = {}\n",
    "        \n",
    "        # Extract name, review_count, rating, and price key-value pairs\n",
    "        # from business_data and add to prepared_data\n",
    "        # If a key is not present in business_data, add it to prepared_data\n",
    "        # with an associated value of None\n",
    "        prepared_data[\"name\"] = business_data.get(\"name\")\n",
    "        prepared_data[\"review_count\"] = business_data.get(\"review_count\")\n",
    "        prepared_data[\"rating\"] = business_data.get(\"rating\")\n",
    "        prepared_data[\"price\"] = business_data.get(\"price\")\n",
    "    \n",
    "        # Parse and add latitude and longitude columns\n",
    "        coordinates = business_data.get(\"coordinates\")\n",
    "        if coordinates:\n",
    "            prepared_data[\"latitude\"] = coordinates.get(\"latitude\")\n",
    "            prepared_data[\"longitude\"] = coordinates.get(\"longitude\"\n",
    "        \n",
    "        # Add to list if all values are present\n",
    "        if all(prepared_data.values()):\n",
    "            results.append(prepared_data)\n",
    "    \n",
    "    return results\n",
    "    \n",
    "# Test out function\n",
    "prepared_businesses = prepare_data(businesses)\n",
    "prepared_businesses[:5]"
   ]
  },
  {
   "cell_type": "code",
   "execution_count": 16,
   "metadata": {},
   "outputs": [
    {
     "data": {
      "text/plain": [
       "[{'name': \"Juliana's\",\n",
       "  'review_count': 2749,\n",
       "  'rating': 4.4,\n",
       "  'price': '$$',\n",
       "  'latitude': 40.70274718768062,\n",
       "  'longitude': -73.99343490196397},\n",
       " {'name': 'Prince Street Pizza',\n",
       "  'review_count': 5217,\n",
       "  'rating': 4.3,\n",
       "  'price': '$',\n",
       "  'latitude': 40.72308755605564,\n",
       "  'longitude': -73.99453001177575},\n",
       " {'name': \"L'industrie Pizzeria\",\n",
       "  'review_count': 1256,\n",
       "  'rating': 4.7,\n",
       "  'price': '$',\n",
       "  'latitude': 40.71162,\n",
       "  'longitude': -73.95783},\n",
       " {'name': 'Rubirosa',\n",
       "  'review_count': 3298,\n",
       "  'rating': 4.3,\n",
       "  'price': '$$',\n",
       "  'latitude': 40.722766,\n",
       "  'longitude': -73.996233},\n",
       " {'name': \"Lombardi's Pizza\",\n",
       "  'review_count': 6623,\n",
       "  'rating': 3.8,\n",
       "  'price': '$$',\n",
       "  'latitude': 40.7215934960083,\n",
       "  'longitude': -73.9955956044561}]"
      ]
     },
     "execution_count": 16,
     "metadata": {},
     "output_type": "execute_result"
    }
   ],
   "source": [
    "# Replace None with appropriate code\n",
    "def prepare_data(data_list):\n",
    "    \"\"\"\n",
    "    This function takes in a list of dictionaries and prepares it\n",
    "    for analysis\n",
    "    \"\"\"\n",
    "    \n",
    "    # Make a new list to hold results\n",
    "    results = []\n",
    "    \n",
    "    for business_data in data_list:\n",
    "    \n",
    "        # Make a new dictionary to hold prepared data for this business\n",
    "        prepared_data = {}\n",
    "        \n",
    "        # Extract name, review_count, rating, and price key-value pairs\n",
    "        # from business_data and add to prepared_data\n",
    "        # If a key is not present in business_data, add it to prepared_data\n",
    "        # with an associated value of None\n",
    "        prepared_data[\"name\"] = business_data.get(\"name\")\n",
    "        prepared_data[\"review_count\"] = business_data.get(\"review_count\")\n",
    "        prepared_data[\"rating\"] = business_data.get(\"rating\")\n",
    "        prepared_data[\"price\"] = business_data.get(\"price\")\n",
    "        \n",
    "        # Parse and add latitude and longitude columns\n",
    "        coordinates = business_data.get(\"coordinates\")\n",
    "        if coordinates:\n",
    "            prepared_data[\"latitude\"] = coordinates.get(\"latitude\")\n",
    "            prepared_data[\"longitude\"] = coordinates.get(\"longitude\")\n",
    "        \n",
    "        # Check if all values are present\n",
    "        if all(prepared_data.values()):\n",
    "            results.append(prepared_data)\n",
    "    \n",
    "    return results\n",
    "    \n",
    "# Test out function\n",
    "prepared_businesses = prepare_data(businesses)\n",
    "prepared_businesses[:5]\n"
   ]
  },
  {
   "cell_type": "markdown",
   "metadata": {},
   "source": [
    "Check that your function created the correct keys:"
   ]
  },
  {
   "cell_type": "code",
   "execution_count": 17,
   "metadata": {},
   "outputs": [],
   "source": [
    "# Run this cell without changes\n",
    "\n",
    "assert sorted(list(prepared_businesses[0].keys())) == ['latitude', 'longitude', 'name', 'price', 'rating', 'review_count']"
   ]
  },
  {
   "cell_type": "markdown",
   "metadata": {},
   "source": [
    "The following code will differ depending on your query, but we expect there to be 20 businesses in the original list, and potentially fewer in the prepared list (if any of them were missing data):"
   ]
  },
  {
   "cell_type": "code",
   "execution_count": 18,
   "metadata": {},
   "outputs": [
    {
     "name": "stdout",
     "output_type": "stream",
     "text": [
      "Original: 20\n",
      "Prepared: 15\n"
     ]
    }
   ],
   "source": [
    "# Run this cell without changes\n",
    "print(\"Original:\", len(businesses))\n",
    "print(\"Prepared:\", len(prepared_businesses))"
   ]
  },
  {
   "cell_type": "markdown",
   "metadata": {},
   "source": [
    "Great! We will reuse this function once we have retrieved the full dataset."
   ]
  },
  {
   "cell_type": "markdown",
   "metadata": {},
   "source": [
    "## 2. Add Pagination\n",
    "\n",
    "Now that you are able to extract information from one page of the response, let's figure out how to request as many pages as possible.\n",
    "\n",
    "### Determining the Total\n",
    "\n",
    "Depending on the number of total results for your query, you will either retrieve all of the results, or just the first 1000 (if there are more than 1000 total).\n",
    "\n",
    "We can find the total number of results using the `\"total\"` key:"
   ]
  },
  {
   "cell_type": "code",
   "execution_count": 19,
   "metadata": {},
   "outputs": [
    {
     "data": {
      "text/plain": [
       "12600"
      ]
     },
     "execution_count": 19,
     "metadata": {},
     "output_type": "execute_result"
    }
   ],
   "source": [
    "# Run this cell without changes\n",
    "response_json[\"total\"]"
   ]
  },
  {
   "cell_type": "markdown",
   "metadata": {},
   "source": [
    "(This is specific to the implementation of the Yelp API. Some APIs will just tell you that there are more pages, or will tell you the number of pages total, rather than the total number of results. If you're not sure, always check the documentation.)\n",
    "\n",
    "In the cell below, assign the variable `total` to either the value shown above (if it is less than 1000), or 1000."
   ]
  },
  {
   "cell_type": "code",
   "execution_count": 20,
   "metadata": {},
   "outputs": [],
   "source": [
    "# Replace None with appropriate code\n",
    "total = 1000"
   ]
  },
  {
   "cell_type": "markdown",
   "metadata": {},
   "source": [
    "### Calculating the Offsets\n",
    "\n",
    "The documentation states in the parameters section:\n",
    "\n",
    "> **Name**: `limit`, **Type:** int, **Description:** Optional. Number of business results to return. By default, it will return 20. Maximum is 50.\n",
    "\n",
    "> **Name**: `offset`, **Type:** int, **Description:** Optional. Offset the list of returned business results by this amount.\n",
    "\n",
    "So, to get the most results with the fewest API calls we want to set a limit of 50 every time. If, say, we wanted to get 210 total results, that would mean:\n",
    "\n",
    "1. Offset of `0` (first 50 records)\n",
    "2. Offset of `50` (second 50 records)\n",
    "3. Offset of `100` (third 50 records)\n",
    "4. Offset of `150` (fourth 50 records)\n",
    "5. Offset of `200` (final 10 records)\n",
    "\n",
    "In the cell below, create a function `get_offsets` that takes in a total and returns a list of offsets for that total. You can assume that there is a limit of 50 every time.\n",
    "\n",
    "*Hint: you can use `range` ([documentation here](https://docs.python.org/3.3/library/stdtypes.html?highlight=range#range)) to do this in one line of code. Just make the returned result is a list.*"
   ]
  },
  {
   "cell_type": "code",
   "execution_count": 21,
   "metadata": {},
   "outputs": [],
   "source": [
    "def get_offsets(total):\n",
    "    \"\"\"\n",
    "    Get a list of offsets needed to get all pages\n",
    "    of data up until the total\n",
    "    \"\"\"\n",
    "    # Calculate the number of full rounds and the remainder\n",
    "    rounds, remainder = divmod(total, 50)\n",
    "    \n",
    "    # Generate offsets for full rounds\n",
    "    offsets = [offset for offset in range(0, rounds * 50, 50)]\n",
    "    \n",
    "    # Add offset for the remaining records if any\n",
    "    if remainder > 0:\n",
    "        offsets.append(rounds * 50)\n",
    "    \n",
    "    return offsets\n"
   ]
  },
  {
   "cell_type": "markdown",
   "metadata": {},
   "source": [
    "Check that your function works below:"
   ]
  },
  {
   "cell_type": "code",
   "execution_count": 22,
   "metadata": {},
   "outputs": [],
   "source": [
    "# Run this cell without changes\n",
    "\n",
    "assert get_offsets(200) == [0, 50, 100, 150]\n",
    "assert get_offsets(210) == [0, 50, 100, 150, 200]"
   ]
  },
  {
   "cell_type": "markdown",
   "metadata": {},
   "source": [
    "### Putting It All Together\n",
    "\n",
    "Recall that the following variable has already been declared for you:"
   ]
  },
  {
   "cell_type": "code",
   "execution_count": 23,
   "metadata": {},
   "outputs": [
    {
     "data": {
      "text/plain": [
       "{'term': 'pizza', 'location': 'New+York+NY'}"
      ]
     },
     "execution_count": 23,
     "metadata": {},
     "output_type": "execute_result"
    }
   ],
   "source": [
    "# Run this cell without changes\n",
    "url_params"
   ]
  },
  {
   "cell_type": "markdown",
   "metadata": {},
   "source": [
    "We'll go ahead and also specify that the limit should be 50 every time:"
   ]
  },
  {
   "cell_type": "code",
   "execution_count": 24,
   "metadata": {},
   "outputs": [],
   "source": [
    "# Run this cell without changes\n",
    "url_params[\"limit\"] = 50"
   ]
  },
  {
   "cell_type": "markdown",
   "metadata": {},
   "source": [
    "In order to modify the offset, you'll need to add it to `url_params` with the key `\"offset\"` and whatever value is needed.\n",
    "\n",
    "In the cell below, write code that:\n",
    "\n",
    "* Creates an empty list for the full prepared dataset\n",
    "* Loops over all of the offsets from `get_offsets` and makes an API call each time with the specified offset\n",
    "* Calls `prepare_data` to get a cleaned version of the result of each API call\n",
    "* Extends the full prepared dataset list with each query's prepared dataset"
   ]
  },
  {
   "cell_type": "code",
   "execution_count": 26,
   "metadata": {},
   "outputs": [
    {
     "data": {
      "text/plain": [
       "686"
      ]
     },
     "execution_count": 26,
     "metadata": {},
     "output_type": "execute_result"
    }
   ],
   "source": [
    "import requests\n",
    "\n",
    "# Create an empty list for the full prepared dataset\n",
    "full_dataset = []\n",
    "\n",
    "for offset in get_offsets(total):\n",
    "    # Add or update the \"offset\" key-value pair in url_params\n",
    "    url_params[\"offset\"] = offset\n",
    "    \n",
    "    # Make the query and get the response\n",
    "    response = requests.get(url, headers=headers, params=url_params)\n",
    "    \n",
    "    # Get the response body in JSON format\n",
    "    response_json = response.json()\n",
    "    \n",
    "    # Get the list of businesses from the response_json\n",
    "    businesses = response_json.get(\"businesses\", [])\n",
    "    \n",
    "    # Call the prepare_data function to get a list of processed data\n",
    "    prepared_businesses = prepare_data(businesses)\n",
    "    \n",
    "    # Extend full_dataset with this list (don't append, or you'll get\n",
    "    # a list of lists instead of a flat list)\n",
    "    full_dataset.extend(prepared_businesses)\n",
    "\n",
    "# Check the length of the full dataset. It will be up to `total`,\n",
    "# potentially less if there were missing values\n",
    "len(full_dataset)\n"
   ]
  },
  {
   "cell_type": "markdown",
   "metadata": {},
   "source": [
    "This code may take up to a few minutes to run.\n",
    "\n",
    "If you get an error trying to get the response body in JSON format, try adding `time.sleep(1)` right after the `requests.get` line, so your code will sleep for 1 second between each API call."
   ]
  },
  {
   "cell_type": "markdown",
   "metadata": {},
   "source": [
    "## 3. Perform Exploratory Analysis\n",
    "\n",
    "Take the businesses from the previous question and do an initial exploratory analysis. We have provided some plots for you to interpret:"
   ]
  },
  {
   "cell_type": "code",
   "execution_count": 29,
   "metadata": {},
   "outputs": [
    {
     "data": {
      "image/png": "[encoded data removed]",
      "text/plain": [
       "<Figure size 1152x360 with 3 Axes>"
      ]
     },
     "metadata": {
      "needs_background": "light"
     },
     "output_type": "display_data"
    }
   ],
   "source": [
    "# Run this cell without changes\n",
    "from collections import Counter\n",
    "import matplotlib.pyplot as plt\n",
    "%matplotlib inline\n",
    "\n",
    "fig, (ax1, ax2, ax3) = plt.subplots(ncols=3, figsize=(16, 5))\n",
    "\n",
    "# Plot distribution of number of reviews\n",
    "all_review_counts = [x[\"review_count\"] for x in full_dataset]\n",
    "ax1.hist(all_review_counts)\n",
    "ax1.set_title(\"Review Count Distribution\")\n",
    "ax1.set_xlabel(\"Number of Reviews\")\n",
    "ax1.set_ylabel(\"Number of Businesses\")\n",
    "\n",
    "# Plot rating distribution\n",
    "all_ratings = [x[\"rating\"] for x in full_dataset]\n",
    "rating_counter = Counter(all_ratings)\n",
    "rating_keys = sorted(rating_counter.keys())\n",
    "ax2.bar(rating_keys, [rating_counter[key] for key in rating_keys])\n",
    "ax2.set_title(\"Rating Distribution\")\n",
    "ax2.set_xlabel(\"Rating\")\n",
    "ax2.set_ylabel(\"Number of Businesses\")\n",
    "\n",
    "# Plot price distribution\n",
    "all_prices = [x[\"price\"].replace(\"$\", r\"\\$\") for x in full_dataset]\n",
    "price_counter = Counter(all_prices)\n",
    "price_keys = sorted(price_counter.keys())\n",
    "ax3.bar(price_keys, [price_counter[key] for key in price_keys])\n",
    "ax3.set_title(\"Price Distribution\")\n",
    "ax3.set_xlabel(\"Price Category\")\n",
    "ax3.set_ylabel(\"Number of Businesses\");"
   ]
  },
  {
   "cell_type": "markdown",
   "metadata": {},
   "source": [
    "Describe the distributions displayed above and interpret them in the context of your query. (Your answer may differ from the solution branch depending on your query.)"
   ]
  },
  {
   "cell_type": "code",
   "execution_count": null,
   "metadata": {},
   "outputs": [],
   "source": [
    "# Replace None with appropriate text\n",
    "\"\"\"\n",
    "Review Count Distribution:\n",
    "\n",
    "This histogram shows the distribution of the number of reviews for businesses in the dataset.\n",
    "The x-axis represents the number of reviews, and the y-axis represents the number of businesses \n",
    "with that specific number of reviews.\n",
    "Interpretation: The distribution indicates how the number of reviews is spread across businesses. \n",
    "A peak or higher frequency at a certain number of reviews may suggest common review patterns among businesses.\n",
    "\n",
    "Rating Distribution:\n",
    "\n",
    "This bar plot displays the distribution of ratings among businesses in the dataset.\n",
    "The x-axis represents the rating values (typically ranging from 1 to 5), and the y-axis represents \n",
    "the number of businesses with each rating.\n",
    "Interpretation: The distribution gives insight into the overall rating tendencies of businesses.\n",
    "A higher concentration of businesses at higher rating values may indicate that most businesses are rated positively,\n",
    "while a more uniform distribution suggests a variety of rating experiences.\n",
    "\n",
    "Price Distribution:\n",
    "\n",
    "This bar plot illustrates the distribution of price categories among businesses in the dataset.\n",
    "The x-axis represents different price categories (usually denoted by $, $$, $$$, etc.), \n",
    "and the y-axis represents the number of businesses falling into each category.\n",
    "Interpretation: The distribution shows how businesses are distributed across different price categories. \n",
    "It helps in understanding the affordability range of businesses in the dataset. \n",
    "For example, a higher frequency of businesses in lower price categories indicates a prevalence of budget-friendly options.\n",
    "\"\"\""
   ]
  },
  {
   "cell_type": "markdown",
   "metadata": {},
   "source": [
    "In the cell below, we also plot the rating distributions by price. In this setup, a price of one dollar sign is \"lower price\" and everything else is \"higher price\"."
   ]
  },
  {
   "cell_type": "code",
   "execution_count": 30,
   "metadata": {},
   "outputs": [
    {
     "data": {
      "image/png": "[encoded data removed]",
      "text/plain": [
       "<Figure size 432x288 with 1 Axes>"
      ]
     },
     "metadata": {
      "needs_background": "light"
     },
     "output_type": "display_data"
    }
   ],
   "source": [
    "# Run this cell without changes\n",
    "\n",
    "higher_price = []\n",
    "lower_price = []\n",
    "for row in full_dataset:\n",
    "    if row[\"price\"] == \"$\":\n",
    "        lower_price.append(row[\"rating\"])\n",
    "    else:\n",
    "        higher_price.append(row[\"rating\"])\n",
    "        \n",
    "fig, ax = plt.subplots()\n",
    "\n",
    "ax.hist([higher_price, lower_price], label=[\"higher price\", \"lower price\"], density=True)\n",
    "\n",
    "ax.legend();"
   ]
  },
  {
   "cell_type": "markdown",
   "metadata": {},
   "source": [
    "Is a higher price associated with a higher rating? (No need for any additional math/statistics, just interpret what you see in the plot.)"
   ]
  },
  {
   "cell_type": "code",
   "execution_count": null,
   "metadata": {},
   "outputs": [],
   "source": [
    "# Replace None with appropriate text\n",
    "\"\"\"\n",
    "\n",
    "The histogram analysis suggests a positive correlation between price and rating,\n",
    "as there is a noticeable trend of higher ratings associated with higher-priced businesses compared to lower-priced ones.\n",
    "\"\"\""
   ]
  },
  {
   "cell_type": "markdown",
   "metadata": {},
   "source": [
    "Finally, let's look at ratings vs. review counts:"
   ]
  },
  {
   "cell_type": "code",
   "execution_count": 31,
   "metadata": {},
   "outputs": [
    {
     "data": {
      "image/png": "[encoded data removed]",
      "text/plain": [
       "<Figure size 1152x360 with 1 Axes>"
      ]
     },
     "metadata": {
      "needs_background": "light"
     },
     "output_type": "display_data"
    }
   ],
   "source": [
    "# Run this cell without changes\n",
    "fig, ax = plt.subplots(figsize=(16,5))\n",
    "\n",
    "ax.scatter(all_review_counts, all_ratings, alpha=0.2)\n",
    "ax.set_xlabel(\"Number of Reviews\")\n",
    "ax.set_ylabel(\"Rating\")\n",
    "# \"zoom in\" to a subset of review counts\n",
    "ax.set_xlim(left=0, right=1000);"
   ]
  },
  {
   "cell_type": "markdown",
   "metadata": {},
   "source": [
    "Is a higher number of reviews associated with a higher rating?"
   ]
  },
  {
   "cell_type": "code",
   "execution_count": null,
   "metadata": {},
   "outputs": [],
   "source": [
    "# Replace None with appropriate text\n",
    "\"\"\"\n",
    "Yes, the analysis indicates that a higher number of reviews is associated with a higher rating, \n",
    "as businesses with more reviews tend to receive higher ratings on average.\n",
    "\"\"\""
   ]
  },
  {
   "cell_type": "markdown",
   "metadata": {},
   "source": [
    "## 4. Create a Folium Map\n",
    "\n",
    "Make a map using Folium of the businesses you retrieved. Be sure to also add popups to the markers giving some basic information such as name, rating and price.\n",
    "\n",
    "You can center the map around the latitude and longitude of the first item in `full_dataset`."
   ]
  },
  {
   "cell_type": "code",
   "execution_count": 36,
   "metadata": {},
   "outputs": [
    {
     "data": {
      "text/html": [
       "<div style=\"width:100%;\"><div style=\"position:relative;width:100%;height:0;padding-bottom:60%;\"><span style=\"color:#565656\">Make this Notebook Trusted to load map: File -> Trust Notebook</span><iframe src=\"about:blank\" style=\"position:absolute;width:100%;height:100%;left:0;top:0;border:none !important;\" data-html=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 onload=\"this.contentDocument.open();this.contentDocument.write(atob(this.getAttribute('data-html')));this.contentDocument.close();\" allowfullscreen webkitallowfullscreen mozallowfullscreen></iframe></div></div>"
      ],
      "text/plain": [
       "<folium.folium.Map at 0x25c9db8cd00>"
      ]
     },
     "execution_count": 36,
     "metadata": {},
     "output_type": "execute_result"
    }
   ],
   "source": [
    "# Replace None with appropriate code\n",
    "\n",
    "\n",
    "# Import the library\n",
    "import folium\n",
    "\n",
    "# Set up center latitude and longitude\n",
    "center_lat = full_dataset[0][\"latitude\"]\n",
    "center_long = full_dataset[0][\"longitude\"]\n",
    "\n",
    "# Initialize map with center lat and long\n",
    "yelp_map = folium.Map(location=[center_lat, center_long])\n",
    "\n",
    "# Adjust this limit to see more or fewer businesses\n",
    "limit = 100\n",
    "\n",
    "for business in full_dataset[:limit]:\n",
    "    # Extract information about business\n",
    "    lat = business[\"latitude\"]\n",
    "    lon = business[\"longitude\"]\n",
    "    name = business[\"name\"]\n",
    "    rating = business[\"rating\"]\n",
    "    price = business[\"price\"]\n",
    "    \n",
    "    # Create popup with relevant details\n",
    "    popup_text = f\"Name: {name}<br>Rating: {rating}<br>Price: {price}\"\n",
    "    \n",
    "    # Create marker with relevant lat/long and popup\n",
    "    marker = folium.Marker([lat, lon], popup=popup_text)\n",
    "    \n",
    "    marker.add_to(yelp_map)\n",
    "    \n",
    "yelp_map\n"
   ]
  },
  {
   "cell_type": "markdown",
   "metadata": {},
   "source": [
    "## Summary\n",
    "\n",
    "Nice work! In this lab, you've made multiple API calls to Yelp in order to paginate through a results set, performing some basic exploratory analysis and then creating a nice interactive map to display the results using Folium! Well done!"
   ]
  }
 ],
 "metadata": {
  "kernelspec": {
   "display_name": "Python 3",
   "language": "python",
   "name": "python3"
  },
  "language_info": {
   "codemirror_mode": {
    "name": "ipython",
    "version": 3
   },
   "file_extension": ".py",
   "mimetype": "text/x-python",
   "name": "python",
   "nbconvert_exporter": "python",
   "pygments_lexer": "ipython3",
   "version": "3.8.5"
  },
  "toc": {
   "base_numbering": 1,
   "nav_menu": {},
   "number_sections": true,
   "sideBar": true,
   "skip_h1_title": false,
   "title_cell": "Table of Contents",
   "title_sidebar": "Contents",
   "toc_cell": false,
   "toc_position": {},
   "toc_section_display": true,
   "toc_window_display": false
  }
 },
 "nbformat": 4,
 "nbformat_minor": 2
}
